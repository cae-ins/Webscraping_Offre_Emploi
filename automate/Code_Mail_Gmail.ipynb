{
 "cells": [
  {
   "cell_type": "code",
   "execution_count": 1,
   "id": "72e8d662",
   "metadata": {},
   "outputs": [],
   "source": [
    "import smtplib\n",
    "from email.mime.multipart import MIMEMultipart\n",
    "from email.mime.text import MIMEText\n",
    "from email.mime.base import MIMEBase\n",
    "from email import encoders\n",
    "from datetime import datetime"
   ]
  },
  {
   "cell_type": "code",
   "execution_count": 12,
   "id": "686df7ca",
   "metadata": {},
   "outputs": [],
   "source": [
    "def send_mail(name, destinataire=\"bakayokoabdoulaye2809@gmail.com\", cc=\"abdoulayebakayoko265@gmail.com\", fichier=\"Donnee_Scrapping_Adjovan.xlsx\"):\n",
    "    # Création de l'e-mail\n",
    "    msg = MIMEMultipart()\n",
    "    msg['From'] = 'bakayoko.aboulaye562@gmail.com'\n",
    "    msg['To'] = destinataire\n",
    "    msg['Cc'] = cc\n",
    "    msg['Subject'] = 'Testing Mail Suivi Carto Automatique'\n",
    "\n",
    "    # Corps du message\n",
    "    current_day = datetime.now().strftime(\"%Y-%m-%d\")\n",
    "    current_hour = datetime.now().strftime(\"%H\")\n",
    "    message = f'''Bonjour,\n",
    "    Je vous prie de trouver en pièce jointe le point de la vérification cartographique du {current_day} à {current_hour}.\n",
    "    Cordialement,\n",
    "    Votre Nom'''\n",
    "    msg.attach(MIMEText(message, 'plain'))\n",
    "\n",
    "    # Pièce jointe\n",
    "    attachment = open(fichier, \"rb\")\n",
    "    part = MIMEBase('application', 'octet-stream')\n",
    "    part.set_payload((attachment).read())\n",
    "    encoders.encode_base64(part)\n",
    "    part.add_header('Content-Disposition', \"attachment; filename= \" + name + \".xlsx\")\n",
    "    msg.attach(part)\n",
    "\n",
    "    # Connexion au serveur SMTP de Gmail\n",
    "    server = smtplib.SMTP('smtp.gmail.com', 587)\n",
    "    server.starttls()\n",
    "\n",
    "    # Connexion à votre compte Gmail\n",
    "    server.login(\"bakayoko.aboulaye562@gmail.com\", \"vmicqliakkajdaus\")\n",
    "\n",
    "    # Envoi de l'e-mail\n",
    "    text = msg.as_string()\n",
    "    server.sendmail(\"bakayokoabdoulaye2809@gmail.com\", destinataire.split(\",\") + cc.split(\",\"), text)\n",
    "\n",
    "    # Fermeture de la connexion\n",
    "    server.quit()\n"
   ]
  },
  {
   "cell_type": "code",
   "execution_count": 13,
   "id": "a1653cbe",
   "metadata": {},
   "outputs": [],
   "source": [
    "# Appel de la fonction pour envoyer l'e-mail\n",
    "send_mail(\"Donnee_Scrapping_Adjovan\", \"bakayokoabdoulaye2809@gmail.com\", \"abdoulayebakayoko265@gmail.com\", \"Donnee_Scrapping_Adjovan.xlsx\")"
   ]
  }
 ],
 "metadata": {
  "kernelspec": {
   "display_name": "Python 3 (ipykernel)",
   "language": "python",
   "name": "python3"
  },
  "language_info": {
   "codemirror_mode": {
    "name": "ipython",
    "version": 3
   },
   "file_extension": ".py",
   "mimetype": "text/x-python",
   "name": "python",
   "nbconvert_exporter": "python",
   "pygments_lexer": "ipython3",
   "version": "3.11.5"
  }
 },
 "nbformat": 4,
 "nbformat_minor": 5
}
